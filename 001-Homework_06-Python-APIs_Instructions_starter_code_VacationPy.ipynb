{
 "cells": [
  {
   "cell_type": "markdown",
   "metadata": {},
   "source": [
    "# VacationPy\n",
    "----\n",
    "\n",
    "#### Note\n",
    "* Instructions have been included for each segment. You do not have to follow them exactly, but they are included to help you think through the steps."
   ]
  },
  {
   "cell_type": "code",
   "execution_count": 1,
   "metadata": {},
   "outputs": [],
   "source": [
    "# Dependencies and Setup\n",
    "import matplotlib.pyplot as plt\n",
    "import pandas as pd\n",
    "import numpy as np\n",
    "import requests\n",
    "import gmaps\n",
    "import os\n",
    "\n",
    "# Import API key\n",
    "from config import g_key"
   ]
  },
  {
   "cell_type": "markdown",
   "metadata": {},
   "source": [
    "### Store Part I results into DataFrame\n",
    "* Load the csv exported in Part I to a DataFrame"
   ]
  },
  {
   "cell_type": "code",
   "execution_count": 2,
   "metadata": {},
   "outputs": [
    {
     "data": {
      "text/html": [
       "<div>\n",
       "<style scoped>\n",
       "    .dataframe tbody tr th:only-of-type {\n",
       "        vertical-align: middle;\n",
       "    }\n",
       "\n",
       "    .dataframe tbody tr th {\n",
       "        vertical-align: top;\n",
       "    }\n",
       "\n",
       "    .dataframe thead th {\n",
       "        text-align: right;\n",
       "    }\n",
       "</style>\n",
       "<table border=\"1\" class=\"dataframe\">\n",
       "  <thead>\n",
       "    <tr style=\"text-align: right;\">\n",
       "      <th></th>\n",
       "      <th>Unnamed: 0</th>\n",
       "      <th>City</th>\n",
       "      <th>Cloudiness</th>\n",
       "      <th>Country</th>\n",
       "      <th>Date</th>\n",
       "      <th>Humidity</th>\n",
       "      <th>Temp</th>\n",
       "      <th>Lat</th>\n",
       "      <th>Lng</th>\n",
       "      <th>Wind Speed</th>\n",
       "    </tr>\n",
       "  </thead>\n",
       "  <tbody>\n",
       "    <tr>\n",
       "      <td>0</td>\n",
       "      <td>0</td>\n",
       "      <td>yulara</td>\n",
       "      <td>92</td>\n",
       "      <td>AU</td>\n",
       "      <td>1580416870</td>\n",
       "      <td>83</td>\n",
       "      <td>77.0</td>\n",
       "      <td>-25.24</td>\n",
       "      <td>130.99</td>\n",
       "      <td>4.70</td>\n",
       "    </tr>\n",
       "    <tr>\n",
       "      <td>1</td>\n",
       "      <td>1</td>\n",
       "      <td>marawi</td>\n",
       "      <td>40</td>\n",
       "      <td>PH</td>\n",
       "      <td>1580416871</td>\n",
       "      <td>89</td>\n",
       "      <td>72.0</td>\n",
       "      <td>8.00</td>\n",
       "      <td>124.29</td>\n",
       "      <td>5.01</td>\n",
       "    </tr>\n",
       "    <tr>\n",
       "      <td>2</td>\n",
       "      <td>2</td>\n",
       "      <td>pitimbu</td>\n",
       "      <td>20</td>\n",
       "      <td>BR</td>\n",
       "      <td>1580416871</td>\n",
       "      <td>94</td>\n",
       "      <td>73.4</td>\n",
       "      <td>-7.47</td>\n",
       "      <td>-34.81</td>\n",
       "      <td>16.11</td>\n",
       "    </tr>\n",
       "    <tr>\n",
       "      <td>3</td>\n",
       "      <td>3</td>\n",
       "      <td>ushuaia</td>\n",
       "      <td>75</td>\n",
       "      <td>AR</td>\n",
       "      <td>1580416772</td>\n",
       "      <td>81</td>\n",
       "      <td>48.2</td>\n",
       "      <td>-54.80</td>\n",
       "      <td>-68.30</td>\n",
       "      <td>33.33</td>\n",
       "    </tr>\n",
       "    <tr>\n",
       "      <td>4</td>\n",
       "      <td>4</td>\n",
       "      <td>mataura</td>\n",
       "      <td>60</td>\n",
       "      <td>NZ</td>\n",
       "      <td>1580416871</td>\n",
       "      <td>64</td>\n",
       "      <td>59.0</td>\n",
       "      <td>-46.19</td>\n",
       "      <td>168.86</td>\n",
       "      <td>21.99</td>\n",
       "    </tr>\n",
       "  </tbody>\n",
       "</table>\n",
       "</div>"
      ],
      "text/plain": [
       "   Unnamed: 0     City  Cloudiness Country        Date  Humidity  Temp    Lat  \\\n",
       "0           0   yulara          92      AU  1580416870        83  77.0 -25.24   \n",
       "1           1   marawi          40      PH  1580416871        89  72.0   8.00   \n",
       "2           2  pitimbu          20      BR  1580416871        94  73.4  -7.47   \n",
       "3           3  ushuaia          75      AR  1580416772        81  48.2 -54.80   \n",
       "4           4  mataura          60      NZ  1580416871        64  59.0 -46.19   \n",
       "\n",
       "      Lng  Wind Speed  \n",
       "0  130.99        4.70  \n",
       "1  124.29        5.01  \n",
       "2  -34.81       16.11  \n",
       "3  -68.30       33.33  \n",
       "4  168.86       21.99  "
      ]
     },
     "execution_count": 2,
     "metadata": {},
     "output_type": "execute_result"
    }
   ],
   "source": [
    "cities = pd.read_csv('../output_data/cities.csv')\n",
    "cities.head()"
   ]
  },
  {
   "cell_type": "markdown",
   "metadata": {},
   "source": [
    "### Humidity Heatmap\n",
    "* Configure gmaps.\n",
    "* Use the Lat and Lng as locations and Humidity as the weight.\n",
    "* Add Heatmap layer to map."
   ]
  },
  {
   "cell_type": "code",
   "execution_count": 10,
   "metadata": {},
   "outputs": [],
   "source": [
    "# Configure gmaps\n",
    "gmaps.configure(api_key=g_key)\n"
   ]
  },
  {
   "cell_type": "code",
   "execution_count": 11,
   "metadata": {},
   "outputs": [
    {
     "data": {
      "application/vnd.jupyter.widget-view+json": {
       "model_id": "7cc98e55a0a74e55aa9668e0e6deb1a1",
       "version_major": 2,
       "version_minor": 0
      },
      "text/plain": [
       "Figure(layout=FigureLayout(height='420px'))"
      ]
     },
     "metadata": {},
     "output_type": "display_data"
    }
   ],
   "source": [
    "# Store latitude and longitude in locations\n",
    "locations = cities[[\"Lat\", \"Lng\"]]\n",
    "\n",
    "# Fill NaN values and convert to float\n",
    "humidity = cities[\"Humidity\"].astype(float)\n",
    "\n",
    "# Plot Heatmap\n",
    "#https://jupyter-gmaps.readthedocs.io/en/latest/api.html\n",
    "fig = gmaps.figure(center=(0, 0), zoom_level=2)\n",
    "\n",
    "# Create heat layer\n",
    "heat_layer = gmaps.heatmap_layer(locations, weights=humidity)\n",
    "\n",
    "# Add layer\n",
    "fig.add_layer(heat_layer)\n",
    "\n",
    "fig"
   ]
  },
  {
   "cell_type": "markdown",
   "metadata": {},
   "source": [
    "### Create new DataFrame fitting weather criteria\n",
    "* Narrow down the cities to fit weather conditions.\n",
    "* Drop any rows will null values."
   ]
  },
  {
   "cell_type": "code",
   "execution_count": 12,
   "metadata": {},
   "outputs": [
    {
     "data": {
      "text/html": [
       "<div>\n",
       "<style scoped>\n",
       "    .dataframe tbody tr th:only-of-type {\n",
       "        vertical-align: middle;\n",
       "    }\n",
       "\n",
       "    .dataframe tbody tr th {\n",
       "        vertical-align: top;\n",
       "    }\n",
       "\n",
       "    .dataframe thead th {\n",
       "        text-align: right;\n",
       "    }\n",
       "</style>\n",
       "<table border=\"1\" class=\"dataframe\">\n",
       "  <thead>\n",
       "    <tr style=\"text-align: right;\">\n",
       "      <th></th>\n",
       "      <th>Unnamed: 0</th>\n",
       "      <th>City</th>\n",
       "      <th>Cloudiness</th>\n",
       "      <th>Country</th>\n",
       "      <th>Date</th>\n",
       "      <th>Humidity</th>\n",
       "      <th>Temp</th>\n",
       "      <th>Lat</th>\n",
       "      <th>Lng</th>\n",
       "      <th>Wind Speed</th>\n",
       "    </tr>\n",
       "  </thead>\n",
       "  <tbody>\n",
       "    <tr>\n",
       "      <td>0</td>\n",
       "      <td>7</td>\n",
       "      <td>cape town</td>\n",
       "      <td>0</td>\n",
       "      <td>ZA</td>\n",
       "      <td>1580416871</td>\n",
       "      <td>72</td>\n",
       "      <td>73.00</td>\n",
       "      <td>-33.93</td>\n",
       "      <td>18.42</td>\n",
       "      <td>9.17</td>\n",
       "    </tr>\n",
       "    <tr>\n",
       "      <td>1</td>\n",
       "      <td>21</td>\n",
       "      <td>kaeo</td>\n",
       "      <td>0</td>\n",
       "      <td>NZ</td>\n",
       "      <td>1580416873</td>\n",
       "      <td>87</td>\n",
       "      <td>75.99</td>\n",
       "      <td>-35.10</td>\n",
       "      <td>173.78</td>\n",
       "      <td>5.01</td>\n",
       "    </tr>\n",
       "    <tr>\n",
       "      <td>2</td>\n",
       "      <td>25</td>\n",
       "      <td>atuona</td>\n",
       "      <td>0</td>\n",
       "      <td>PF</td>\n",
       "      <td>1580416873</td>\n",
       "      <td>73</td>\n",
       "      <td>81.10</td>\n",
       "      <td>-9.80</td>\n",
       "      <td>-139.03</td>\n",
       "      <td>12.08</td>\n",
       "    </tr>\n",
       "    <tr>\n",
       "      <td>3</td>\n",
       "      <td>40</td>\n",
       "      <td>mar del plata</td>\n",
       "      <td>0</td>\n",
       "      <td>AR</td>\n",
       "      <td>1580416700</td>\n",
       "      <td>49</td>\n",
       "      <td>71.60</td>\n",
       "      <td>-38.00</td>\n",
       "      <td>-57.56</td>\n",
       "      <td>16.11</td>\n",
       "    </tr>\n",
       "    <tr>\n",
       "      <td>4</td>\n",
       "      <td>63</td>\n",
       "      <td>corowa</td>\n",
       "      <td>0</td>\n",
       "      <td>AU</td>\n",
       "      <td>1580416877</td>\n",
       "      <td>68</td>\n",
       "      <td>70.00</td>\n",
       "      <td>-36.03</td>\n",
       "      <td>146.38</td>\n",
       "      <td>4.70</td>\n",
       "    </tr>\n",
       "  </tbody>\n",
       "</table>\n",
       "</div>"
      ],
      "text/plain": [
       "   Unnamed: 0           City  Cloudiness Country        Date  Humidity   Temp  \\\n",
       "0           7      cape town           0      ZA  1580416871        72  73.00   \n",
       "1          21           kaeo           0      NZ  1580416873        87  75.99   \n",
       "2          25         atuona           0      PF  1580416873        73  81.10   \n",
       "3          40  mar del plata           0      AR  1580416700        49  71.60   \n",
       "4          63         corowa           0      AU  1580416877        68  70.00   \n",
       "\n",
       "     Lat     Lng  Wind Speed  \n",
       "0 -33.93   18.42        9.17  \n",
       "1 -35.10  173.78        5.01  \n",
       "2  -9.80 -139.03       12.08  \n",
       "3 -38.00  -57.56       16.11  \n",
       "4 -36.03  146.38        4.70  "
      ]
     },
     "execution_count": 12,
     "metadata": {},
     "output_type": "execute_result"
    }
   ],
   "source": [
    "city_list_good = cities.loc[(cities[\"Temp\"] > 65) & (cities[\"Temp\"] < 85) & (cities[\"Cloudiness\"] == 0), :]\n",
    "city_list_good = city_list_good.dropna(how='any')\n",
    "city_list_good.reset_index(inplace=True)\n",
    "del city_list_good['index']\n",
    "city_list_good.head()"
   ]
  },
  {
   "cell_type": "markdown",
   "metadata": {},
   "source": [
    "### Hotel Map\n",
    "* Store into variable named `hotel_df`.\n",
    "* Add a \"Hotel Name\" column to the DataFrame.\n",
    "* Set parameters to search for hotels with 5000 meters.\n",
    "* Hit the Google Places API for each city's coordinates.\n",
    "* Store the first Hotel result into the DataFrame.\n",
    "* Plot markers on top of the heatmap."
   ]
  },
  {
   "cell_type": "code",
   "execution_count": 13,
   "metadata": {},
   "outputs": [
    {
     "data": {
      "text/html": [
       "<div>\n",
       "<style scoped>\n",
       "    .dataframe tbody tr th:only-of-type {\n",
       "        vertical-align: middle;\n",
       "    }\n",
       "\n",
       "    .dataframe tbody tr th {\n",
       "        vertical-align: top;\n",
       "    }\n",
       "\n",
       "    .dataframe thead th {\n",
       "        text-align: right;\n",
       "    }\n",
       "</style>\n",
       "<table border=\"1\" class=\"dataframe\">\n",
       "  <thead>\n",
       "    <tr style=\"text-align: right;\">\n",
       "      <th></th>\n",
       "      <th>Unnamed: 0</th>\n",
       "      <th>City</th>\n",
       "      <th>Cloudiness</th>\n",
       "      <th>Country</th>\n",
       "      <th>Date</th>\n",
       "      <th>Humidity</th>\n",
       "      <th>Temp</th>\n",
       "      <th>Lat</th>\n",
       "      <th>Lng</th>\n",
       "      <th>Wind Speed</th>\n",
       "      <th>Hotel Name</th>\n",
       "    </tr>\n",
       "  </thead>\n",
       "  <tbody>\n",
       "    <tr>\n",
       "      <td>0</td>\n",
       "      <td>7</td>\n",
       "      <td>cape town</td>\n",
       "      <td>0</td>\n",
       "      <td>ZA</td>\n",
       "      <td>1580416871</td>\n",
       "      <td>72</td>\n",
       "      <td>73.00</td>\n",
       "      <td>-33.93</td>\n",
       "      <td>18.42</td>\n",
       "      <td>9.17</td>\n",
       "      <td>Cape Town</td>\n",
       "    </tr>\n",
       "    <tr>\n",
       "      <td>1</td>\n",
       "      <td>21</td>\n",
       "      <td>kaeo</td>\n",
       "      <td>0</td>\n",
       "      <td>NZ</td>\n",
       "      <td>1580416873</td>\n",
       "      <td>87</td>\n",
       "      <td>75.99</td>\n",
       "      <td>-35.10</td>\n",
       "      <td>173.78</td>\n",
       "      <td>5.01</td>\n",
       "      <td>Kaeo</td>\n",
       "    </tr>\n",
       "    <tr>\n",
       "      <td>2</td>\n",
       "      <td>25</td>\n",
       "      <td>atuona</td>\n",
       "      <td>0</td>\n",
       "      <td>PF</td>\n",
       "      <td>1580416873</td>\n",
       "      <td>73</td>\n",
       "      <td>81.10</td>\n",
       "      <td>-9.80</td>\n",
       "      <td>-139.03</td>\n",
       "      <td>12.08</td>\n",
       "      <td>Atuona</td>\n",
       "    </tr>\n",
       "    <tr>\n",
       "      <td>3</td>\n",
       "      <td>40</td>\n",
       "      <td>mar del plata</td>\n",
       "      <td>0</td>\n",
       "      <td>AR</td>\n",
       "      <td>1580416700</td>\n",
       "      <td>49</td>\n",
       "      <td>71.60</td>\n",
       "      <td>-38.00</td>\n",
       "      <td>-57.56</td>\n",
       "      <td>16.11</td>\n",
       "      <td>Mar del Plata</td>\n",
       "    </tr>\n",
       "    <tr>\n",
       "      <td>4</td>\n",
       "      <td>63</td>\n",
       "      <td>corowa</td>\n",
       "      <td>0</td>\n",
       "      <td>AU</td>\n",
       "      <td>1580416877</td>\n",
       "      <td>68</td>\n",
       "      <td>70.00</td>\n",
       "      <td>-36.03</td>\n",
       "      <td>146.38</td>\n",
       "      <td>4.70</td>\n",
       "      <td>Rutherglen</td>\n",
       "    </tr>\n",
       "  </tbody>\n",
       "</table>\n",
       "</div>"
      ],
      "text/plain": [
       "   Unnamed: 0           City  Cloudiness Country        Date  Humidity   Temp  \\\n",
       "0           7      cape town           0      ZA  1580416871        72  73.00   \n",
       "1          21           kaeo           0      NZ  1580416873        87  75.99   \n",
       "2          25         atuona           0      PF  1580416873        73  81.10   \n",
       "3          40  mar del plata           0      AR  1580416700        49  71.60   \n",
       "4          63         corowa           0      AU  1580416877        68  70.00   \n",
       "\n",
       "     Lat     Lng  Wind Speed     Hotel Name  \n",
       "0 -33.93   18.42        9.17      Cape Town  \n",
       "1 -35.10  173.78        5.01           Kaeo  \n",
       "2  -9.80 -139.03       12.08         Atuona  \n",
       "3 -38.00  -57.56       16.11  Mar del Plata  \n",
       "4 -36.03  146.38        4.70     Rutherglen  "
      ]
     },
     "execution_count": 13,
     "metadata": {},
     "output_type": "execute_result"
    }
   ],
   "source": [
    "hotels = []\n",
    "\n",
    "for i in range(len(city_list_good)):\n",
    "    lat = city_list_good.loc[i]['Lat']\n",
    "    lng = city_list_good.loc[i]['Lng']\n",
    "    \n",
    "    params = {\n",
    "        \"location\": f\"{lat},{lng}\",\n",
    "        \"radius\" : 4000,\n",
    "        \"types\" : \"hotel\",\n",
    "        \"key\" : g_key\n",
    "    }\n",
    "    \n",
    "    base_url = \"https://maps.googleapis.com/maps/api/place/nearbysearch/json\"\n",
    "    requested = requests.get(base_url, params=params)\n",
    "    json = requested.json()\n",
    "    try:\n",
    "        hotels.append(json['results'][0]['name'])\n",
    "    except:\n",
    "        hotels.append(\"\")\n",
    "city_list_good[\"Hotel Name\"] = hotels\n",
    "city_list_good = city_list_good.dropna(how='any')\n",
    "city_list_good.head()"
   ]
  },
  {
   "cell_type": "code",
   "execution_count": 16,
   "metadata": {},
   "outputs": [],
   "source": [
    "# NOTE: Do not change any of the code in this cell\n",
    "\n",
    "# Using the template add the hotel marks to the heatmap\n",
    "info_box_template = \"\"\"\n",
    "<dl>\n",
    "<dt>Name</dt><dd>{Hotel Name}</dd>\n",
    "<dt>City</dt><dd>{City}</dd>\n",
    "<dt>Country</dt><dd>{Country}</dd>\n",
    "</dl>\n",
    "\"\"\"\n",
    "# Store the DataFrame Row\n",
    "# NOTE: be sure to update with your DataFrame name\n",
    "hotels_info = [info_box_template.format(**row) for index, row in city_list_good.iterrows()]\n",
    "locations = city_list_good[[\"Lat\", \"Lng\"]]"
   ]
  },
  {
   "cell_type": "code",
   "execution_count": 20,
   "metadata": {},
   "outputs": [
    {
     "data": {
      "application/vnd.jupyter.widget-view+json": {
       "model_id": "7cc98e55a0a74e55aa9668e0e6deb1a1",
       "version_major": 2,
       "version_minor": 0
      },
      "text/plain": [
       "Figure(layout=FigureLayout(height='420px'))"
      ]
     },
     "metadata": {},
     "output_type": "display_data"
    }
   ],
   "source": [
    "# Add marker layer ontop of heat map\n",
    "markers = gmaps.marker_layer(locations)\n",
    "fig.add_layer(markers)\n",
    "# Display Map\n",
    "fig"
   ]
  },
  {
   "cell_type": "code",
   "execution_count": 21,
   "metadata": {},
   "outputs": [
    {
     "data": {
      "application/vnd.jupyter.widget-view+json": {
       "model_id": "4199ab2f8fb846bcb6d4becc8b3d08bf",
       "version_major": 2,
       "version_minor": 0
      },
      "text/plain": [
       "Markers(data_bounds=[(-59.92334126827008, -179.99999), (38.82684126827007, 179.99999)], markers=[Marker(locati…"
      ]
     },
     "metadata": {},
     "output_type": "display_data"
    }
   ],
   "source": [
    "# Display Map\n",
    "markers"
   ]
  },
  {
   "cell_type": "code",
   "execution_count": null,
   "metadata": {},
   "outputs": [],
   "source": []
  },
  {
   "cell_type": "code",
   "execution_count": null,
   "metadata": {},
   "outputs": [],
   "source": []
  }
 ],
 "metadata": {
  "kernelspec": {
   "display_name": "Python 3",
   "language": "python",
   "name": "python3"
  },
  "language_info": {
   "codemirror_mode": {
    "name": "ipython",
    "version": 3
   },
   "file_extension": ".py",
   "mimetype": "text/x-python",
   "name": "python",
   "nbconvert_exporter": "python",
   "pygments_lexer": "ipython3",
   "version": "3.7.4"
  },
  "latex_envs": {
   "LaTeX_envs_menu_present": true,
   "autoclose": false,
   "autocomplete": true,
   "bibliofile": "biblio.bib",
   "cite_by": "apalike",
   "current_citInitial": 1,
   "eqLabelWithNumbers": true,
   "eqNumInitial": 1,
   "hotkeys": {
    "equation": "Ctrl-E",
    "itemize": "Ctrl-I"
   },
   "labels_anchors": false,
   "latex_user_defs": false,
   "report_style_numbering": false,
   "user_envs_cfg": false
  }
 },
 "nbformat": 4,
 "nbformat_minor": 4
}
